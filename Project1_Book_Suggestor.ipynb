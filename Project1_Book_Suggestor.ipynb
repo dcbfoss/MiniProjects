{
  "nbformat": 4,
  "nbformat_minor": 0,
  "metadata": {
    "colab": {
      "provenance": [],
      "include_colab_link": true
    },
    "kernelspec": {
      "name": "python3",
      "display_name": "Python 3"
    },
    "language_info": {
      "name": "python"
    }
  },
  "cells": [
    {
      "cell_type": "markdown",
      "metadata": {
        "id": "view-in-github",
        "colab_type": "text"
      },
      "source": [
        "<a href=\"https://colab.research.google.com/github/dcbfoss/MiniProjects/blob/main/Project1_Book_Suggestor.ipynb\" target=\"_parent\"><img src=\"https://colab.research.google.com/assets/colab-badge.svg\" alt=\"Open In Colab\"/></a>"
      ]
    },
    {
      "cell_type": "code",
      "source": [
        "from keras.models import Sequential\n",
        "from keras.layers import Dense, LSTM\n",
        "import numpy as np\n",
        "import pandas as pd"
      ],
      "metadata": {
        "id": "sc7LfeOTwhlT"
      },
      "execution_count": 1,
      "outputs": []
    },
    {
      "cell_type": "code",
      "source": [
        "data_link = \"https://github.com/dcbfoss/MiniProjects/raw/main/project1/data/books_usage_sample.xlsx\"\n",
        "def readfile(filename, sheetname):\n",
        "    data=pd.read_excel(filename,sheet_name=[sheetname],header=None)\n",
        "    return data"
      ],
      "metadata": {
        "id": "v-l6scZrnQKv"
      },
      "execution_count": 48,
      "outputs": []
    },
    {
      "cell_type": "code",
      "source": [
        "usernames = []; books = []; booktitles = {}; usage_record = []\n",
        "data = readfile(data_link, 'names')\n",
        "usernames = [ i[0].lower() for i in data['names'].values]\n",
        "usage_record = [[] for i in data['names'].values]\n",
        "\n",
        "data = readfile(data_link, 'books')\n",
        "books = [ i[0] for i in data['books'].values]\n",
        "for key, value in data['books'].values:\n",
        "    booktitles[key] = value\n",
        "\n",
        "data = readfile(data_link, 'record')\n",
        "for entry in data['record'].values:\n",
        "    usage_record[usernames.index(entry[1].lower())].append(books.index(entry[3]))\n",
        "\n",
        "print(usage_record)"
      ],
      "metadata": {
        "id": "yuXu3j1hL_tk"
      },
      "execution_count": null,
      "outputs": []
    },
    {
      "cell_type": "code",
      "source": [
        "# create sequence\n",
        "seq1= [i/float(10) for i in range(0,10)] # [0, 0.1, 0.2 ..0.9]\n",
        "seq2 = [i/float(10) for i in range(1,11)] # [0.1, 0.2 ..0.9, 1.0]"
      ],
      "metadata": {
        "id": "yQbBDEEnw2O-"
      },
      "execution_count": null,
      "outputs": []
    },
    {
      "cell_type": "code",
      "source": [
        "# Reformat to X and Y\n",
        "X=np.array(seq1); Y=np.array(seq2)\n",
        "X=X.reshape(10,1);Y=Y.reshape(10,1)\n",
        "\n",
        "model = tf.keras.Sequential([\n",
        "  tf.keras.layers.Embedding(len(chars), 256, input_length=4),\n",
        "  tf.keras.layers.LSTM(256),\n",
        "  tf.keras.layers.Dense(len(chars), activation='softmax')])\n",
        "model.compile(loss='sparse_categorical_crossentropy', optimizer='adam')\n",
        "model.fit(x, y, batch_size=128, epochs=500)\n",
        "loss = model.evaluate(X, Y, verbose=0)"
      ],
      "metadata": {
        "id": "6y32syF2w4RW"
      },
      "execution_count": null,
      "outputs": []
    },
    {
      "cell_type": "code",
      "source": [
        "print(model.predict(X, verbose=0))"
      ],
      "metadata": {
        "id": "QopnTiyUw7C2"
      },
      "execution_count": null,
      "outputs": []
    }
  ]
}