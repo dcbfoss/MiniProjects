{
  "nbformat": 4,
  "nbformat_minor": 0,
  "metadata": {
    "colab": {
      "provenance": [],
      "include_colab_link": true
    },
    "kernelspec": {
      "name": "python3",
      "display_name": "Python 3"
    },
    "language_info": {
      "name": "python"
    }
  },
  "cells": [
    {
      "cell_type": "markdown",
      "metadata": {
        "id": "view-in-github",
        "colab_type": "text"
      },
      "source": [
        "<a href=\"https://colab.research.google.com/github/dcbfoss/MiniProjects/blob/main/Project1_Book_Suggestor.ipynb\" target=\"_parent\"><img src=\"https://colab.research.google.com/assets/colab-badge.svg\" alt=\"Open In Colab\"/></a>"
      ]
    },
    {
      "cell_type": "code",
      "source": [
        "from keras.models import Sequential\n",
        "from keras.layers import Dense, LSTM, Embedding\n",
        "import numpy as np\n",
        "import pandas as pd"
      ],
      "metadata": {
        "id": "sc7LfeOTwhlT"
      },
      "execution_count": 2,
      "outputs": []
    },
    {
      "cell_type": "code",
      "source": [
        "DATA_SOURCE = \"https://github.com/dcbfoss/MiniProjects/raw/main/project1/data/books_usage_sample.xlsx\"\n",
        "RANGE = 5"
      ],
      "metadata": {
        "id": "wNm968bht5EI"
      },
      "execution_count": 3,
      "outputs": []
    },
    {
      "cell_type": "code",
      "source": [
        "def readfile(filename, sheetname):\n",
        "    data=pd.read_excel(filename,sheet_name=[sheetname],header=None)\n",
        "    return data\n",
        "\n",
        "def predict_book(seed, model, books, booktitles):\n",
        "    x = np.array(seed)\n",
        "    x = np.reshape(x, (1,4))\n",
        "    index = (np.argmax(model.predict(x, verbose=0)))\n",
        "    bookname  = booktitles[books[index]]\n",
        "    return (index, books[index], bookname)"
      ],
      "metadata": {
        "id": "v-l6scZrnQKv"
      },
      "execution_count": 5,
      "outputs": []
    },
    {
      "cell_type": "code",
      "source": [
        "usernames = []; books = []; booktitles = {}; usage_record = []\n",
        "data = readfile(DATA_SOURCE, 'names')\n",
        "usernames = [ i[0].lower() for i in data['names'].values]\n",
        "usage_record = [[] for i in data['names'].values]\n",
        "\n",
        "data = readfile(DATA_SOURCE, 'books')\n",
        "books = [ i[0] for i in data['books'].values]\n",
        "for key, value in data['books'].values:\n",
        "    booktitles[key] = value\n",
        "\n",
        "data = readfile(DATA_SOURCE, 'record')\n",
        "for entry in data['record'].values:\n",
        "    usage_record[usernames.index(entry[1].lower())].append(books.index(entry[3]))\n",
        "\n",
        "max_embed = len(books)+2"
      ],
      "metadata": {
        "id": "yuXu3j1hL_tk"
      },
      "execution_count": 39,
      "outputs": []
    },
    {
      "cell_type": "markdown",
      "source": [
        "# Statistics"
      ],
      "metadata": {
        "id": "Sz1EZE0k5Bwo"
      }
    },
    {
      "cell_type": "code",
      "source": [
        "weight_matrix = []; books_per_user = [len(books_) for books_ in usage_record]\n",
        "for user in usernames:\n",
        "    weight_matrix.append([0 for book in books])\n",
        "\n",
        "for user_index in range(len(usernames)):\n",
        "    importance_score = books_per_user[user_index] / sum(books_per_user)\n",
        "    for book_index in range(len(books)):\n",
        "        if book_index in usage_record[user_index]:count = usage_record[user_index].count(book_index)\n",
        "        else:count = 0\n",
        "        favorite_score = count/(books_per_user[user_index]/len(set(usage_record[user_index])))\n",
        "        weight = favorite_score * importance_score\n",
        "        weight_matrix[user_index][book_index] = weight\n",
        "\n",
        "fav_summary = [0 for book in books]\n",
        "for index, weights in enumerate(weight_matrix):\n",
        "    for j, weight in enumerate(weights):\n",
        "        fav_summary[j]+= weight\n",
        "    max_weight_index = np.argmax(weights)\n",
        "    max_weight = weights[max_weight_index]\n",
        "    print(usernames[index], round(max_weight*100,2), booktitles[books[max_weight_index]])\n",
        "print(booktitles[books[np.argmax(fav_summary)]])"
      ],
      "metadata": {
        "id": "lK27cigk5GNf",
        "outputId": "7fb4f153-dd0d-4a90-d8b4-aa688270cf7c",
        "colab": {
          "base_uri": "https://localhost:8080/"
        }
      },
      "execution_count": 54,
      "outputs": [
        {
          "output_type": "stream",
          "name": "stdout",
          "text": [
            "aazadh 1.01 Meerayude Novellakal\n",
            "abdul rahoof s 1.09 Python Essential Reference\n",
            "abhinand c. s. 0.31 Bioinformatics: Sequence and Genome Analysis\n",
            "abhinaya 0.54 Introduction to Bioinformatics\n",
            "ajay pradeep 1.4 MYSQL 5.0\n",
            "akhil vasim 4.34 Introduction to Bioinformatics\n",
            "akhila s 1.71 Basic Bioinformatics\n",
            "akhiya a.r. 2.87 Mastering Perl for Bioinformatics\n",
            "alan syed 1.01 Database System Concepts\n",
            "amritha raju 0.39 Bioinformatics - A Practical guide to the Analysis of Gene\n",
            "amrutha p 1.4 SQL, PL /SQL: The Programming Language of Oracle\n",
            "anagha rajan 3.1 UGC CSIR-JRF/ NET Compulsory   Paper - 1: Common for science subjects\n",
            "anas a s 1.24 Cell Biology\n",
            "ann 0.39 World' Most Humorous Short Stories\n",
            "anu sasi 1.09 Research methodology: Methods and techniques\n",
            "anuja mohan 0.78 Biotechnology For B.sc\n",
            "anuroopa g nadh 6.74 Dravya Guna Vijnana : Study of the Essential Medicinal Plants in Ayurveda Vol.2 \n",
            "arjun v.m. 0.23 Databases\n",
            "arun k unni 0.54 Secrets of Success: The science and spirit of real prosperity\n",
            "arun paulose 3.1 Calculus: Early Transcendentals\n",
            "arunima 0.31 Biotechnology For B.sc\n",
            "arunkumar b 0.39 Lead Generation Approaches in Drug Discovery\n",
            "arya k r 1.55 Bioinformatics for everyone\n",
            "arya krishna a r 0.54 Bioinformatics: Methods and Applications\n",
            "arya v. v. 2.79 Understanding GENES & Genomes\n",
            "asha v s 1.71  Manual of the Warrior of Light\n",
            "ashlin 0.16 Cell Biology\n",
            "ashna 0.16 Introduction to Database Systems\n",
            "ashwini jayachandran 1.55 Bioinstrumentation and Biosensors\n",
            "ashwini k.s. 0.85 Essentials of Molecular Biology\n",
            "aswathy t r 0.23 Life of Pi Film Tie in\n",
            "athira h 1.16 Introduction to Genomics\n",
            "athira t 1.94 Kuby Immunology\n",
            "banazir 0.39 Bioinformatics: Methods and Applications\n",
            "bibin 0.47 Python for Bioinformatics\n",
            "bishmitha k 0.93 Introduction to computational molecular biology /J0ao Carlos Setubal, Joao Meidanis.\n",
            "chinchu e.r. 1.4 An Introduction to Biostatistics: A Manual for Students in Health Sciences\n",
            "christy 0.62 Data Structures (SOS) \n",
            "deepthi 0.47 Bioinformatics Methods and Appllications  : Genomics, Proteomics and Drug Discovery\n",
            "delphin r. d. 0.62 Bioinformatics Methods and Appllications  : Genomics, Proteomics and Drug Discovery\n",
            "dineshkumar 0.31 Biomedical Informatics\n",
            "dr. achuthsankar s. nair 17.36 Generative deep learning :\n",
            "dr. oommen v oommen 0.16 My Family and Other Animals\n",
            "gayathri d 0.62 Biomolecules\n",
            "gayathri thampi 1.01 Pro Perl \n",
            "gopika rani 1.94 Molecular Genetics\n",
            "gowri k babu 1.24 The Elements of Immunology\n",
            "jijil 0.54 Immunotherapy of Cancer\n",
            "junaida m i 0.31 Bioinformatics Methods and Applications: Genomics Proteomics and Drug Discovery\n",
            "karthika 0.85 Basics Of Drug Analysis\n",
            "krishnendu 0.47 Essential Bioinformatics\n",
            "lekshmi s nair 1.55 Manushyanu Oru Aamukham\n",
            "lidhiya 0.39 Fundamentals of Molecular Biology\n",
            "liya simon 0.93 Drug Discovery\n",
            "madeena s 0.16 Cancer Screening by Raman Spectroscopy\n",
            "manumol m 2.33 Learning Perl\n",
            "muhammed hakkim 0.08 Aadujeevitham\n",
            "muhammed minhaju a. 0.39 Foundation Course in Biology\n",
            "neema m p 0.16 Goat Days (Novel )\n",
            "neenu mohan 3.57 PSC degree level preliminary exam: Rank File Volume 1\n",
            "nighitha 0.08 A Text Book of Bioinformatics\n",
            "parvathi jayaraj 0.85 The five people you meet in heaven\n",
            "parvathy suresh 6.82 Drug design \n",
            "preetha p. 0.62 Database System Concepts\n",
            "rani j.r. 2.4 A Textbook of Biotechnology\n",
            "raniya k zubair 6.67 What If?: Serious Scientific Answers to Absurd Hypothetical Questions\n",
            "rashmi sukumaran 0.47 Galileo Galilei: A man of science\n",
            "roshan 0.16 A new introduction to biology : AQA Biology Specification A\n",
            "saleena younus 0.16      Computer-aided drug design\n",
            "salil suresh 1.71 Physics of the Future\n",
            "sameera k. 0.16 Trueman's Specific series UGC-CSIR NET for JRF/Lectureship Compulsory paper- 1 (Common for Science Subjects)\n",
            "sandhya k. s. 0.31 Lead Generation Approaches in Drug Discovery\n",
            "saranya s 0.78 A Textbook of Biotechnology\n",
            "saraswathy v 1.71 Virtual Screening in Drug Discovery\n",
            "sarath kumar 0.08 Philosophy of mind\n",
            "seba 0.39 Cell and Molecular Biology\n",
            "shahana s j 0.23 Aadujeevitham\n",
            "shahina k 0.16 Deep learning for dummies\n",
            "shajila salim 2.02 Go Kiss the World: Life lessons for the young professional\n",
            "shanitha a. 10.54 Biotechnology For B.sc\n",
            "sheeba k 0.23 Data Mining : Introductory and Advanced Topics\n",
            "siva priya p. 0.23 Aadikailassayathra\n",
            "sneha thomas 2.17 Biotechnology For B.sc\n",
            "sreejith g 0.39 Machine Learning: An Algorithmic Perspective\n",
            "sreelekshmi i.g. 0.47 Childhood in Malabar: A Memoir\n",
            "sunitha p. 2.79 A Textbook of Biotechnology\n",
            "suveena s 0.47 Fundamentals of Molecular Biology\n",
            "swathi k 0.39 Goat Days (Novel )\n",
            "vaishnavi 0.7 Alchemist\n",
            "vijayalekshmi b 0.23 Today is My Favourite Day: Unleashing the Power of Optimism \n",
            "vinni n g 1.01 A Textbook of Biotechnology\n",
            "vinod m.p. 1.4 Structure based Study of Viral Replication\n",
            "vishnu 1.16 The Best of Speaking Tree Vol.II\n",
            "vishnu v j 2.64 Cell Biology,Genetics, Molecular Biology Cell Biology,Genetics, Molecular Biology: Evolution and Ecology\n",
            "Generative deep learning :\n"
          ]
        }
      ]
    },
    {
      "cell_type": "markdown",
      "source": [
        "# Machine Learning Based Prediction"
      ],
      "metadata": {
        "id": "p0x4UqiwvBdM"
      }
    },
    {
      "cell_type": "code",
      "source": [
        "input_data = []; output_labels = []\n",
        "for user in usage_record:\n",
        "    for i in range(len(user)):\n",
        "        subset = user[i:i+RANGE]\n",
        "        if len(subset)==RANGE:\n",
        "            input_data.append(subset[0:-1])\n",
        "            output_labels.append(subset[-1])\n",
        "X=np.array(input_data); Y=np.array(output_labels)"
      ],
      "metadata": {
        "id": "yQbBDEEnw2O-"
      },
      "execution_count": 35,
      "outputs": []
    },
    {
      "cell_type": "code",
      "source": [
        "model = Sequential([\n",
        "    Embedding(max_embed, 256, input_length=4),\n",
        "    LSTM(256),\n",
        "    Dense(max_embed, activation='softmax')])\n",
        "model.compile(loss='sparse_categorical_crossentropy', optimizer='adam')"
      ],
      "metadata": {
        "id": "6y32syF2w4RW"
      },
      "execution_count": 40,
      "outputs": []
    },
    {
      "cell_type": "code",
      "source": [
        "model.fit(X, Y, batch_size=100, epochs=10)\n",
        "loss = model.evaluate(X, Y, verbose=0)"
      ],
      "metadata": {
        "colab": {
          "base_uri": "https://localhost:8080/"
        },
        "id": "Ca4HKh1skv77",
        "outputId": "f69bd82b-3ae9-4e7e-9785-7c391c250d8d"
      },
      "execution_count": 41,
      "outputs": [
        {
          "output_type": "stream",
          "name": "stdout",
          "text": [
            "Epoch 1/10\n",
            "10/10 [==============================] - 3s 53ms/step - loss: 6.8776\n",
            "Epoch 2/10\n",
            "10/10 [==============================] - 1s 51ms/step - loss: 6.8571\n",
            "Epoch 3/10\n",
            "10/10 [==============================] - 1s 50ms/step - loss: 6.8342\n",
            "Epoch 4/10\n",
            "10/10 [==============================] - 1s 50ms/step - loss: 6.7890\n",
            "Epoch 5/10\n",
            "10/10 [==============================] - 1s 52ms/step - loss: 6.6454\n",
            "Epoch 6/10\n",
            "10/10 [==============================] - 1s 72ms/step - loss: 6.4735\n",
            "Epoch 7/10\n",
            "10/10 [==============================] - 1s 77ms/step - loss: 6.2542\n",
            "Epoch 8/10\n",
            "10/10 [==============================] - 1s 81ms/step - loss: 6.0217\n",
            "Epoch 9/10\n",
            "10/10 [==============================] - 1s 80ms/step - loss: 5.6842\n",
            "Epoch 10/10\n",
            "10/10 [==============================] - 1s 78ms/step - loss: 5.1304\n"
          ]
        }
      ]
    },
    {
      "cell_type": "code",
      "source": [
        "test_books = [\"DCB3311\",\"DCB2992\",\"DCB2789\",\"DCB3326\"]\n",
        "seed = [books.index(i) for i in test_books]\n",
        "print(predict_book(seed, model, books, booktitles))"
      ],
      "metadata": {
        "id": "3dk4bTgsz4m9",
        "outputId": "1a51727c-0d81-4389-ad11-1160bdfe0e09",
        "colab": {
          "base_uri": "https://localhost:8080/"
        }
      },
      "execution_count": 43,
      "outputs": [
        {
          "output_type": "stream",
          "name": "stdout",
          "text": [
            "(674, 'DCB3858', 'Machine learning with Python cookbook :')\n"
          ]
        }
      ]
    }
  ]
}