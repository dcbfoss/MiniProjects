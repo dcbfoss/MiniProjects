{
  "nbformat": 4,
  "nbformat_minor": 0,
  "metadata": {
    "colab": {
      "provenance": [],
      "authorship_tag": "ABX9TyPgvFAR3HRU5yNVYZjEWaJy",
      "include_colab_link": true
    },
    "kernelspec": {
      "name": "python3",
      "display_name": "Python 3"
    },
    "language_info": {
      "name": "python"
    }
  },
  "cells": [
    {
      "cell_type": "markdown",
      "metadata": {
        "id": "view-in-github",
        "colab_type": "text"
      },
      "source": [
        "<a href=\"https://colab.research.google.com/github/dcbfoss/MiniProjects/blob/main/Project1_Book_Suggestor.ipynb\" target=\"_parent\"><img src=\"https://colab.research.google.com/assets/colab-badge.svg\" alt=\"Open In Colab\"/></a>"
      ]
    },
    {
      "cell_type": "code",
      "source": [
        "from keras.models import Sequential\n",
        "from keras.layers import Dense, LSTM\n",
        "import numpy as np\n",
        "import pandas as pd"
      ],
      "metadata": {
        "id": "sc7LfeOTwhlT"
      },
      "execution_count": null,
      "outputs": []
    },
    {
      "cell_type": "code",
      "source": [
        "def readfile():\n",
        "  data=pd.read_excel(filename,sheetname=[])\n",
        "\n"
      ],
      "metadata": {
        "id": "qnByFQM7w8r1"
      },
      "execution_count": null,
      "outputs": []
    },
    {
      "cell_type": "code",
      "source": [
        "# create sequence\n",
        "seq1= [i/float(10) for i in range(0,10)] # [0, 0.1, 0.2 ..0.9]\n",
        "seq2 = [i/float(10) for i in range(1,11)] # [0.1, 0.2 ..0.9, 1.0]"
      ],
      "metadata": {
        "id": "yQbBDEEnw2O-"
      },
      "execution_count": null,
      "outputs": []
    },
    {
      "cell_type": "code",
      "source": [
        "# Reformat to X and Y\n",
        "X=np.array(seq1); Y=np.array(seq2)\n",
        "X=X.reshape(10,1);Y=Y.reshape(10,1)\n",
        "\n",
        "model = tf.keras.Sequential([\n",
        "  tf.keras.layers.Embedding(len(chars), 256, input_length=4),\n",
        "  tf.keras.layers.LSTM(256),\n",
        "  tf.keras.layers.Dense(len(chars), activation='softmax')])\n",
        "model.compile(loss='sparse_categorical_crossentropy', optimizer='adam')\n",
        "model.fit(x, y, batch_size=128, epochs=500)\n",
        "loss = model.evaluate(X, Y, verbose=0)"
      ],
      "metadata": {
        "id": "6y32syF2w4RW"
      },
      "execution_count": null,
      "outputs": []
    },
    {
      "cell_type": "code",
      "source": [
        "print(model.predict(X, verbose=0))"
      ],
      "metadata": {
        "id": "QopnTiyUw7C2"
      },
      "execution_count": null,
      "outputs": []
    }
  ]
}