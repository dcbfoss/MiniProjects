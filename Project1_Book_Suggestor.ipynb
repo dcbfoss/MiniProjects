{
  "nbformat": 4,
  "nbformat_minor": 0,
  "metadata": {
    "colab": {
      "provenance": [],
      "include_colab_link": true
    },
    "kernelspec": {
      "name": "python3",
      "display_name": "Python 3"
    },
    "language_info": {
      "name": "python"
    }
  },
  "cells": [
    {
      "cell_type": "markdown",
      "metadata": {
        "id": "view-in-github",
        "colab_type": "text"
      },
      "source": [
        "<a href=\"https://colab.research.google.com/github/dcbfoss/MiniProjects/blob/main/Project1_Book_Suggestor.ipynb\" target=\"_parent\"><img src=\"https://colab.research.google.com/assets/colab-badge.svg\" alt=\"Open In Colab\"/></a>"
      ]
    },
    {
      "cell_type": "code",
      "source": [
        "from keras.models import Sequential\n",
        "from keras.layers import Dense, LSTM, Embedding\n",
        "import numpy as np\n",
        "import pandas as pd\n",
        "import tensorflow as tf"
      ],
      "metadata": {
        "id": "sc7LfeOTwhlT"
      },
      "execution_count": 76,
      "outputs": []
    },
    {
      "cell_type": "code",
      "source": [
        "data_link = \"https://github.com/dcbfoss/MiniProjects/raw/main/project1/data/books_usage_sample.xlsx\"\n",
        "def readfile(filename, sheetname):\n",
        "    data=pd.read_excel(filename,sheet_name=[sheetname],header=None)\n",
        "    return data\n",
        "\n",
        "def find_max(this_list):\n",
        "    max_val = 0\n",
        "    for i in this_list:\n",
        "        if type(i)==type([]):\n",
        "            m_val = max(i)\n",
        "        else:m_val = i\n",
        "        max_val = max(max_val, m_val)\n",
        "    return max_val"
      ],
      "metadata": {
        "id": "v-l6scZrnQKv"
      },
      "execution_count": 107,
      "outputs": []
    },
    {
      "cell_type": "code",
      "source": [
        "usernames = []; books = []; booktitles = {}; usage_record = []\n",
        "data = readfile(data_link, 'names')\n",
        "usernames = [ i[0].lower() for i in data['names'].values]\n",
        "usage_record = [[] for i in data['names'].values]\n",
        "\n",
        "data = readfile(data_link, 'books')\n",
        "books = [ i[0] for i in data['books'].values]\n",
        "for key, value in data['books'].values:\n",
        "    booktitles[key] = value\n",
        "\n",
        "data = readfile(data_link, 'record')\n",
        "for entry in data['record'].values:\n",
        "    usage_record[usernames.index(entry[1].lower())].append(books.index(entry[3]))\n",
        "\n",
        "print(usage_record)"
      ],
      "metadata": {
        "id": "yuXu3j1hL_tk"
      },
      "execution_count": null,
      "outputs": []
    },
    {
      "cell_type": "code",
      "source": [
        "# create sequence\n",
        "input_data = []; output_labels = [];RANGE = 5\n",
        "for user in usage_record:\n",
        "    for i in range(len(user)):\n",
        "        subset = user[i:i+RANGE]\n",
        "        if len(subset)==RANGE:\n",
        "            input_data.append(subset[0:-1])\n",
        "            output_labels.append(subset[-1])\n",
        "X=np.array(input_data); Y=np.array(output_labels)\n",
        "\n",
        "max_embed = find_max(input_data)\n",
        "max_embed = max(max_embed, find_max(output_labels))\n",
        "print(max_embed)"
      ],
      "metadata": {
        "id": "yQbBDEEnw2O-",
        "colab": {
          "base_uri": "https://localhost:8080/"
        },
        "outputId": "cb5cf8bd-3431-405c-b0d2-a5d4ed5b6ed2"
      },
      "execution_count": 108,
      "outputs": [
        {
          "output_type": "stream",
          "name": "stdout",
          "text": [
            "964\n"
          ]
        }
      ]
    },
    {
      "cell_type": "code",
      "source": [
        "model = Sequential([\n",
        "    Embedding(max_embed+1, 256, input_length=4),\n",
        "    LSTM(256),\n",
        "    Dense(max_embed+1, activation='softmax')])\n",
        "model.compile(loss='sparse_categorical_crossentropy', optimizer='adam')"
      ],
      "metadata": {
        "id": "6y32syF2w4RW"
      },
      "execution_count": 109,
      "outputs": []
    },
    {
      "cell_type": "code",
      "source": [
        "model.fit(X, Y, batch_size=100, epochs=10)\n",
        "loss = model.evaluate(X, Y, verbose=0)"
      ],
      "metadata": {
        "id": "Ca4HKh1skv77",
        "outputId": "3d76786f-60be-43d0-98b0-f78694c968fa",
        "colab": {
          "base_uri": "https://localhost:8080/"
        }
      },
      "execution_count": 110,
      "outputs": [
        {
          "output_type": "stream",
          "name": "stdout",
          "text": [
            "Epoch 1/10\n",
            "10/10 [==============================] - 4s 97ms/step - loss: 6.8733\n",
            "Epoch 2/10\n",
            "10/10 [==============================] - 1s 61ms/step - loss: 6.8527\n",
            "Epoch 3/10\n",
            "10/10 [==============================] - 1s 64ms/step - loss: 6.8293\n",
            "Epoch 4/10\n",
            "10/10 [==============================] - 1s 61ms/step - loss: 6.7828\n",
            "Epoch 5/10\n",
            "10/10 [==============================] - 1s 65ms/step - loss: 6.6403\n",
            "Epoch 6/10\n",
            "10/10 [==============================] - 1s 66ms/step - loss: 6.4528\n",
            "Epoch 7/10\n",
            "10/10 [==============================] - 1s 75ms/step - loss: 6.2184\n",
            "Epoch 8/10\n",
            "10/10 [==============================] - 1s 63ms/step - loss: 5.9730\n",
            "Epoch 9/10\n",
            "10/10 [==============================] - 1s 63ms/step - loss: 5.5955\n",
            "Epoch 10/10\n",
            "10/10 [==============================] - 1s 62ms/step - loss: 4.9939\n"
          ]
        }
      ]
    },
    {
      "cell_type": "code",
      "source": [
        "seed = [879, 843, 353, 448]\n",
        "x = np.array(seed)\n",
        "x = np.reshape(x, (1,4))\n",
        "index = (np.argmax(model.predict(x, verbose=0)))\n",
        "bookname  = booktitles[books[index]]\n",
        "print(index, bookname)"
      ],
      "metadata": {
        "id": "QopnTiyUw7C2",
        "colab": {
          "base_uri": "https://localhost:8080/"
        },
        "outputId": "3dab5df6-db6a-468b-f5fc-c8ec17fbe463"
      },
      "execution_count": 118,
      "outputs": [
        {
          "output_type": "stream",
          "name": "stdout",
          "text": [
            "535 Ashithayude Kathakal\n"
          ]
        }
      ]
    }
  ]
}